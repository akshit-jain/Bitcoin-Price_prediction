{
  "nbformat": 4,
  "nbformat_minor": 0,
  "metadata": {
    "colab": {
      "name": "Artificial Intelligence Project.ipynb",
      "provenance": [],
      "include_colab_link": true
    },
    "kernelspec": {
      "name": "python3",
      "display_name": "Python 3"
    },
    "language_info": {
      "name": "python"
    }
  },
  "cells": [
    {
      "cell_type": "markdown",
      "metadata": {
        "id": "view-in-github",
        "colab_type": "text"
      },
      "source": [
        "<a href=\"https://colab.research.google.com/github/akshit-jain/Bitcoin-Price_prediction/blob/main/Artificial_Intelligence_Project.ipynb\" target=\"_parent\"><img src=\"https://colab.research.google.com/assets/colab-badge.svg\" alt=\"Open In Colab\"/></a>"
      ]
    },
    {
      "cell_type": "code",
      "execution_count": null,
      "metadata": {
        "id": "UrgabnaubqmJ"
      },
      "outputs": [],
      "source": [
        "import requests, pandas as pd, numpy as np, matplotlib.pyplot as plt\n",
        "\n",
        "from sklearn.preprocessing import MinMaxScaler\n",
        "from tensorflow.keras.layers import Dense, Dropout, LSTM\n",
        "from tensorflow.keras.models import Sequential\n"
      ]
    },
    {
      "cell_type": "code",
      "source": [
        "api_key = '8457650d37bd4476892bd021c85b79d5'\n",
        "symbol = 'BTC/INR'\n",
        "interval = '45min'\n",
        "order = 'asc'\n",
        "start_date = '2021-03-31 00:00:00'\n",
        "end_date = '2021-04-20 00:00:00'\n",
        "\n",
        "api_url = f'https://api.twelvedata.com/time_series?symbol={symbol}&start_date={start_date}&end_date{end_date}&interval={interval}&order={order}&apikey={api_key}'\n"
      ],
      "metadata": {
        "id": "HQRXxOw1cSnc"
      },
      "execution_count": null,
      "outputs": []
    },
    {
      "cell_type": "code",
      "source": [
        "data = requests.get(api_url).json()\n",
        "data_final = pd.DataFrame(data['values'])\n",
        "data_final"
      ],
      "metadata": {
        "colab": {
          "base_uri": "https://localhost:8080/",
          "height": 423
        },
        "id": "E5rET0Uqfwbi",
        "outputId": "156c000e-7dfe-4efa-f17b-489b1dc80583"
      },
      "execution_count": null,
      "outputs": [
        {
          "output_type": "execute_result",
          "data": {
            "text/plain": [
              "                 datetime           open           high            low  \\\n",
              "0     2021-11-17 00:00:00  4471729.00000  4496932.00000  4431071.00000   \n",
              "1     2021-11-17 00:45:00  4449788.50000  4480293.00000  4435338.50000   \n",
              "2     2021-11-17 01:30:00  4478565.50000  4483787.50000  4406695.50000   \n",
              "3     2021-11-17 02:15:00  4436313.50000  4441861.50000  4411697.50000   \n",
              "4     2021-11-17 03:00:00  4419358.50000  4449588.50000  4366418.00000   \n",
              "...                   ...            ...            ...            ...   \n",
              "4995  2022-04-23 06:00:00  3026550.25000  3033843.25000  3024495.50000   \n",
              "4996  2022-04-23 06:45:00  3027064.75000  3032109.75000  3026917.00000   \n",
              "4997  2022-04-23 07:30:00  3030359.50000  3030359.50000  3024390.00000   \n",
              "4998  2022-04-23 08:15:00  3029760.75000  3033990.00000  3028191.75000   \n",
              "4999  2022-04-23 09:00:00  3030087.25000  3030087.25000  3024257.75000   \n",
              "\n",
              "              close  \n",
              "0     4438058.00000  \n",
              "1     4480293.00000  \n",
              "2     4434914.00000  \n",
              "3     4422909.50000  \n",
              "4     4431561.50000  \n",
              "...             ...  \n",
              "4995  3026759.75000  \n",
              "4996  3029969.50000  \n",
              "4997  3024767.75000  \n",
              "4998  3028950.50000  \n",
              "4999  3024865.50000  \n",
              "\n",
              "[5000 rows x 5 columns]"
            ],
            "text/html": [
              "\n",
              "  <div id=\"df-80fea8bc-f12f-4d6c-9d1b-4934ebca4128\">\n",
              "    <div class=\"colab-df-container\">\n",
              "      <div>\n",
              "<style scoped>\n",
              "    .dataframe tbody tr th:only-of-type {\n",
              "        vertical-align: middle;\n",
              "    }\n",
              "\n",
              "    .dataframe tbody tr th {\n",
              "        vertical-align: top;\n",
              "    }\n",
              "\n",
              "    .dataframe thead th {\n",
              "        text-align: right;\n",
              "    }\n",
              "</style>\n",
              "<table border=\"1\" class=\"dataframe\">\n",
              "  <thead>\n",
              "    <tr style=\"text-align: right;\">\n",
              "      <th></th>\n",
              "      <th>datetime</th>\n",
              "      <th>open</th>\n",
              "      <th>high</th>\n",
              "      <th>low</th>\n",
              "      <th>close</th>\n",
              "    </tr>\n",
              "  </thead>\n",
              "  <tbody>\n",
              "    <tr>\n",
              "      <th>0</th>\n",
              "      <td>2021-11-17 00:00:00</td>\n",
              "      <td>4471729.00000</td>\n",
              "      <td>4496932.00000</td>\n",
              "      <td>4431071.00000</td>\n",
              "      <td>4438058.00000</td>\n",
              "    </tr>\n",
              "    <tr>\n",
              "      <th>1</th>\n",
              "      <td>2021-11-17 00:45:00</td>\n",
              "      <td>4449788.50000</td>\n",
              "      <td>4480293.00000</td>\n",
              "      <td>4435338.50000</td>\n",
              "      <td>4480293.00000</td>\n",
              "    </tr>\n",
              "    <tr>\n",
              "      <th>2</th>\n",
              "      <td>2021-11-17 01:30:00</td>\n",
              "      <td>4478565.50000</td>\n",
              "      <td>4483787.50000</td>\n",
              "      <td>4406695.50000</td>\n",
              "      <td>4434914.00000</td>\n",
              "    </tr>\n",
              "    <tr>\n",
              "      <th>3</th>\n",
              "      <td>2021-11-17 02:15:00</td>\n",
              "      <td>4436313.50000</td>\n",
              "      <td>4441861.50000</td>\n",
              "      <td>4411697.50000</td>\n",
              "      <td>4422909.50000</td>\n",
              "    </tr>\n",
              "    <tr>\n",
              "      <th>4</th>\n",
              "      <td>2021-11-17 03:00:00</td>\n",
              "      <td>4419358.50000</td>\n",
              "      <td>4449588.50000</td>\n",
              "      <td>4366418.00000</td>\n",
              "      <td>4431561.50000</td>\n",
              "    </tr>\n",
              "    <tr>\n",
              "      <th>...</th>\n",
              "      <td>...</td>\n",
              "      <td>...</td>\n",
              "      <td>...</td>\n",
              "      <td>...</td>\n",
              "      <td>...</td>\n",
              "    </tr>\n",
              "    <tr>\n",
              "      <th>4995</th>\n",
              "      <td>2022-04-23 06:00:00</td>\n",
              "      <td>3026550.25000</td>\n",
              "      <td>3033843.25000</td>\n",
              "      <td>3024495.50000</td>\n",
              "      <td>3026759.75000</td>\n",
              "    </tr>\n",
              "    <tr>\n",
              "      <th>4996</th>\n",
              "      <td>2022-04-23 06:45:00</td>\n",
              "      <td>3027064.75000</td>\n",
              "      <td>3032109.75000</td>\n",
              "      <td>3026917.00000</td>\n",
              "      <td>3029969.50000</td>\n",
              "    </tr>\n",
              "    <tr>\n",
              "      <th>4997</th>\n",
              "      <td>2022-04-23 07:30:00</td>\n",
              "      <td>3030359.50000</td>\n",
              "      <td>3030359.50000</td>\n",
              "      <td>3024390.00000</td>\n",
              "      <td>3024767.75000</td>\n",
              "    </tr>\n",
              "    <tr>\n",
              "      <th>4998</th>\n",
              "      <td>2022-04-23 08:15:00</td>\n",
              "      <td>3029760.75000</td>\n",
              "      <td>3033990.00000</td>\n",
              "      <td>3028191.75000</td>\n",
              "      <td>3028950.50000</td>\n",
              "    </tr>\n",
              "    <tr>\n",
              "      <th>4999</th>\n",
              "      <td>2022-04-23 09:00:00</td>\n",
              "      <td>3030087.25000</td>\n",
              "      <td>3030087.25000</td>\n",
              "      <td>3024257.75000</td>\n",
              "      <td>3024865.50000</td>\n",
              "    </tr>\n",
              "  </tbody>\n",
              "</table>\n",
              "<p>5000 rows × 5 columns</p>\n",
              "</div>\n",
              "      <button class=\"colab-df-convert\" onclick=\"convertToInteractive('df-80fea8bc-f12f-4d6c-9d1b-4934ebca4128')\"\n",
              "              title=\"Convert this dataframe to an interactive table.\"\n",
              "              style=\"display:none;\">\n",
              "        \n",
              "  <svg xmlns=\"http://www.w3.org/2000/svg\" height=\"24px\"viewBox=\"0 0 24 24\"\n",
              "       width=\"24px\">\n",
              "    <path d=\"M0 0h24v24H0V0z\" fill=\"none\"/>\n",
              "    <path d=\"M18.56 5.44l.94 2.06.94-2.06 2.06-.94-2.06-.94-.94-2.06-.94 2.06-2.06.94zm-11 1L8.5 8.5l.94-2.06 2.06-.94-2.06-.94L8.5 2.5l-.94 2.06-2.06.94zm10 10l.94 2.06.94-2.06 2.06-.94-2.06-.94-.94-2.06-.94 2.06-2.06.94z\"/><path d=\"M17.41 7.96l-1.37-1.37c-.4-.4-.92-.59-1.43-.59-.52 0-1.04.2-1.43.59L10.3 9.45l-7.72 7.72c-.78.78-.78 2.05 0 2.83L4 21.41c.39.39.9.59 1.41.59.51 0 1.02-.2 1.41-.59l7.78-7.78 2.81-2.81c.8-.78.8-2.07 0-2.86zM5.41 20L4 18.59l7.72-7.72 1.47 1.35L5.41 20z\"/>\n",
              "  </svg>\n",
              "      </button>\n",
              "      \n",
              "  <style>\n",
              "    .colab-df-container {\n",
              "      display:flex;\n",
              "      flex-wrap:wrap;\n",
              "      gap: 12px;\n",
              "    }\n",
              "\n",
              "    .colab-df-convert {\n",
              "      background-color: #E8F0FE;\n",
              "      border: none;\n",
              "      border-radius: 50%;\n",
              "      cursor: pointer;\n",
              "      display: none;\n",
              "      fill: #1967D2;\n",
              "      height: 32px;\n",
              "      padding: 0 0 0 0;\n",
              "      width: 32px;\n",
              "    }\n",
              "\n",
              "    .colab-df-convert:hover {\n",
              "      background-color: #E2EBFA;\n",
              "      box-shadow: 0px 1px 2px rgba(60, 64, 67, 0.3), 0px 1px 3px 1px rgba(60, 64, 67, 0.15);\n",
              "      fill: #174EA6;\n",
              "    }\n",
              "\n",
              "    [theme=dark] .colab-df-convert {\n",
              "      background-color: #3B4455;\n",
              "      fill: #D2E3FC;\n",
              "    }\n",
              "\n",
              "    [theme=dark] .colab-df-convert:hover {\n",
              "      background-color: #434B5C;\n",
              "      box-shadow: 0px 1px 3px 1px rgba(0, 0, 0, 0.15);\n",
              "      filter: drop-shadow(0px 1px 2px rgba(0, 0, 0, 0.3));\n",
              "      fill: #FFFFFF;\n",
              "    }\n",
              "  </style>\n",
              "\n",
              "      <script>\n",
              "        const buttonEl =\n",
              "          document.querySelector('#df-80fea8bc-f12f-4d6c-9d1b-4934ebca4128 button.colab-df-convert');\n",
              "        buttonEl.style.display =\n",
              "          google.colab.kernel.accessAllowed ? 'block' : 'none';\n",
              "\n",
              "        async function convertToInteractive(key) {\n",
              "          const element = document.querySelector('#df-80fea8bc-f12f-4d6c-9d1b-4934ebca4128');\n",
              "          const dataTable =\n",
              "            await google.colab.kernel.invokeFunction('convertToInteractive',\n",
              "                                                     [key], {});\n",
              "          if (!dataTable) return;\n",
              "\n",
              "          const docLinkHtml = 'Like what you see? Visit the ' +\n",
              "            '<a target=\"_blank\" href=https://colab.research.google.com/notebooks/data_table.ipynb>data table notebook</a>'\n",
              "            + ' to learn more about interactive tables.';\n",
              "          element.innerHTML = '';\n",
              "          dataTable['output_type'] = 'display_data';\n",
              "          await google.colab.output.renderOutput(dataTable, element);\n",
              "          const docLink = document.createElement('div');\n",
              "          docLink.innerHTML = docLinkHtml;\n",
              "          element.appendChild(docLink);\n",
              "        }\n",
              "      </script>\n",
              "    </div>\n",
              "  </div>\n",
              "  "
            ]
          },
          "metadata": {},
          "execution_count": 3
        }
      ]
    },
    {
      "cell_type": "code",
      "source": [
        "scaler = MinMaxScaler(feature_range=(0,1))\n",
        "scaled_data = scaler.fit_transform(data_final['close'].values.reshape(-1,1))"
      ],
      "metadata": {
        "id": "yzcHr99AiFdW"
      },
      "execution_count": null,
      "outputs": []
    },
    {
      "cell_type": "code",
      "source": [
        "time_intervals_to_train = 24 # previous 2 hrs data which is used to train\n",
        "prediction_interval = 12 # next 1 hr data which is to be predicted\n",
        "\n",
        "x_train = []\n",
        "y_train = []"
      ],
      "metadata": {
        "id": "LOZSQsDz9I-I"
      },
      "execution_count": null,
      "outputs": []
    },
    {
      "cell_type": "code",
      "source": [
        "for i in range(time_intervals_to_train, len(scaled_data) - prediction_interval):\n",
        "  x_train.append(scaled_data[i - time_intervals_to_train: i, 0])\n",
        "  y_train.append(scaled_data[i + prediction_interval, 0])\n",
        "\n",
        "x_train = np.array(x_train)\n",
        "y_train = np.array(y_train)"
      ],
      "metadata": {
        "id": "BOvkor40-GdW"
      },
      "execution_count": null,
      "outputs": []
    },
    {
      "cell_type": "code",
      "source": [
        "x_train = np.reshape(x_train, (x_train.shape[0], x_train.shape[1], 1))"
      ],
      "metadata": {
        "id": "y3secwIDB6pP"
      },
      "execution_count": null,
      "outputs": []
    },
    {
      "cell_type": "code",
      "source": [
        "model = Sequential()\n",
        "\n",
        "model.add(LSTM(128, return_sequences = True, input_shape = (x_train.shape[1], 1), activation = 'relu'))\n",
        "model.add(Dropout(0.4))\n",
        "model.add(LSTM(64, return_sequences = True, activation = 'relu'))\n",
        "model.add(Dropout(0.3))\n",
        "model.add(LSTM(32, activation = 'relu'))\n",
        "model.add(Dropout(0.2))\n",
        "model.add(Dense(1, activation= 'sigmoid'))"
      ],
      "metadata": {
        "id": "Ap5nwHCrDEWl"
      },
      "execution_count": null,
      "outputs": []
    },
    {
      "cell_type": "code",
      "source": [
        "model.compile(loss = 'mean_squared_error', optimizer= 'adam', metrics= ['accuracy'])"
      ],
      "metadata": {
        "id": "qkWJn4TxEtSU"
      },
      "execution_count": null,
      "outputs": []
    },
    {
      "cell_type": "code",
      "source": [
        "model.fit(x_train, y_train, epochs=10, batch_size=64)"
      ],
      "metadata": {
        "colab": {
          "base_uri": "https://localhost:8080/"
        },
        "id": "-OfwQKhNFkVn",
        "outputId": "ab5b03c0-03a3-4b26-cc9c-f2be642d5cfe"
      },
      "execution_count": null,
      "outputs": [
        {
          "output_type": "stream",
          "name": "stdout",
          "text": [
            "Epoch 1/10\n",
            "78/78 [==============================] - 18s 154ms/step - loss: 0.0157 - accuracy: 2.0145e-04\n",
            "Epoch 2/10\n",
            "78/78 [==============================] - 12s 160ms/step - loss: 0.0034 - accuracy: 2.0145e-04\n",
            "Epoch 3/10\n",
            "78/78 [==============================] - 8s 99ms/step - loss: 0.0031 - accuracy: 2.0145e-04\n",
            "Epoch 4/10\n",
            "78/78 [==============================] - 7s 85ms/step - loss: 0.0029 - accuracy: 2.0145e-04\n",
            "Epoch 5/10\n",
            "78/78 [==============================] - 7s 84ms/step - loss: 0.0029 - accuracy: 2.0145e-04\n",
            "Epoch 6/10\n",
            "78/78 [==============================] - 7s 86ms/step - loss: 0.0027 - accuracy: 2.0145e-04\n",
            "Epoch 7/10\n",
            "78/78 [==============================] - 6s 82ms/step - loss: 0.0026 - accuracy: 2.0145e-04\n",
            "Epoch 8/10\n",
            "78/78 [==============================] - 7s 85ms/step - loss: 0.0026 - accuracy: 2.0145e-04\n",
            "Epoch 9/10\n",
            "78/78 [==============================] - 7s 83ms/step - loss: 0.0025 - accuracy: 2.0145e-04\n",
            "Epoch 10/10\n",
            "78/78 [==============================] - 7s 85ms/step - loss: 0.0024 - accuracy: 2.0145e-04\n"
          ]
        },
        {
          "output_type": "execute_result",
          "data": {
            "text/plain": [
              "<keras.callbacks.History at 0x7f9febeb6a90>"
            ]
          },
          "metadata": {},
          "execution_count": 10
        }
      ]
    },
    {
      "cell_type": "code",
      "source": [
        "test_start = '2021-03-31 00:00:00'\n",
        "test_end = '2021-04-20 00:00:00'\n",
        "\n",
        "test_api_url = f'https://api.twelvedata.com/time_series?symbol={symbol}&start_date={test_start}&end_date{test_end}&interval={interval}&order={order}&apikey={api_key}'\n",
        "test_data = requests.get(test_api_url).json()\n",
        "test_data_final = pd.DataFrame(test_data['values'])\n",
        "test_data_final"
      ],
      "metadata": {
        "colab": {
          "base_uri": "https://localhost:8080/",
          "height": 423
        },
        "id": "Mp-HLAyCGiLi",
        "outputId": "550aa811-6e1c-47b7-bfd5-5a337ccb47b9"
      },
      "execution_count": null,
      "outputs": [
        {
          "output_type": "execute_result",
          "data": {
            "text/plain": [
              "                 datetime           open           high            low  \\\n",
              "0     2021-11-17 00:00:00  4471729.00000  4496932.00000  4431071.00000   \n",
              "1     2021-11-17 00:45:00  4449788.50000  4480293.00000  4435338.50000   \n",
              "2     2021-11-17 01:30:00  4478565.50000  4483787.50000  4406695.50000   \n",
              "3     2021-11-17 02:15:00  4436313.50000  4441861.50000  4411697.50000   \n",
              "4     2021-11-17 03:00:00  4419358.50000  4449588.50000  4366418.00000   \n",
              "...                   ...            ...            ...            ...   \n",
              "4995  2022-04-23 06:00:00  3026550.25000  3033843.25000  3024495.50000   \n",
              "4996  2022-04-23 06:45:00  3027064.75000  3032109.75000  3026917.00000   \n",
              "4997  2022-04-23 07:30:00  3030359.50000  3030359.50000  3024390.00000   \n",
              "4998  2022-04-23 08:15:00  3029760.75000  3033990.00000  3028191.75000   \n",
              "4999  2022-04-23 09:00:00  3030087.25000  3030087.25000  3024257.75000   \n",
              "\n",
              "              close  \n",
              "0     4438058.00000  \n",
              "1     4480293.00000  \n",
              "2     4434914.00000  \n",
              "3     4422909.50000  \n",
              "4     4431561.50000  \n",
              "...             ...  \n",
              "4995  3026759.75000  \n",
              "4996  3029969.50000  \n",
              "4997  3024767.75000  \n",
              "4998  3028950.50000  \n",
              "4999  3024865.50000  \n",
              "\n",
              "[5000 rows x 5 columns]"
            ],
            "text/html": [
              "\n",
              "  <div id=\"df-d86d8909-2a12-48e7-9d29-49a300d94297\">\n",
              "    <div class=\"colab-df-container\">\n",
              "      <div>\n",
              "<style scoped>\n",
              "    .dataframe tbody tr th:only-of-type {\n",
              "        vertical-align: middle;\n",
              "    }\n",
              "\n",
              "    .dataframe tbody tr th {\n",
              "        vertical-align: top;\n",
              "    }\n",
              "\n",
              "    .dataframe thead th {\n",
              "        text-align: right;\n",
              "    }\n",
              "</style>\n",
              "<table border=\"1\" class=\"dataframe\">\n",
              "  <thead>\n",
              "    <tr style=\"text-align: right;\">\n",
              "      <th></th>\n",
              "      <th>datetime</th>\n",
              "      <th>open</th>\n",
              "      <th>high</th>\n",
              "      <th>low</th>\n",
              "      <th>close</th>\n",
              "    </tr>\n",
              "  </thead>\n",
              "  <tbody>\n",
              "    <tr>\n",
              "      <th>0</th>\n",
              "      <td>2021-11-17 00:00:00</td>\n",
              "      <td>4471729.00000</td>\n",
              "      <td>4496932.00000</td>\n",
              "      <td>4431071.00000</td>\n",
              "      <td>4438058.00000</td>\n",
              "    </tr>\n",
              "    <tr>\n",
              "      <th>1</th>\n",
              "      <td>2021-11-17 00:45:00</td>\n",
              "      <td>4449788.50000</td>\n",
              "      <td>4480293.00000</td>\n",
              "      <td>4435338.50000</td>\n",
              "      <td>4480293.00000</td>\n",
              "    </tr>\n",
              "    <tr>\n",
              "      <th>2</th>\n",
              "      <td>2021-11-17 01:30:00</td>\n",
              "      <td>4478565.50000</td>\n",
              "      <td>4483787.50000</td>\n",
              "      <td>4406695.50000</td>\n",
              "      <td>4434914.00000</td>\n",
              "    </tr>\n",
              "    <tr>\n",
              "      <th>3</th>\n",
              "      <td>2021-11-17 02:15:00</td>\n",
              "      <td>4436313.50000</td>\n",
              "      <td>4441861.50000</td>\n",
              "      <td>4411697.50000</td>\n",
              "      <td>4422909.50000</td>\n",
              "    </tr>\n",
              "    <tr>\n",
              "      <th>4</th>\n",
              "      <td>2021-11-17 03:00:00</td>\n",
              "      <td>4419358.50000</td>\n",
              "      <td>4449588.50000</td>\n",
              "      <td>4366418.00000</td>\n",
              "      <td>4431561.50000</td>\n",
              "    </tr>\n",
              "    <tr>\n",
              "      <th>...</th>\n",
              "      <td>...</td>\n",
              "      <td>...</td>\n",
              "      <td>...</td>\n",
              "      <td>...</td>\n",
              "      <td>...</td>\n",
              "    </tr>\n",
              "    <tr>\n",
              "      <th>4995</th>\n",
              "      <td>2022-04-23 06:00:00</td>\n",
              "      <td>3026550.25000</td>\n",
              "      <td>3033843.25000</td>\n",
              "      <td>3024495.50000</td>\n",
              "      <td>3026759.75000</td>\n",
              "    </tr>\n",
              "    <tr>\n",
              "      <th>4996</th>\n",
              "      <td>2022-04-23 06:45:00</td>\n",
              "      <td>3027064.75000</td>\n",
              "      <td>3032109.75000</td>\n",
              "      <td>3026917.00000</td>\n",
              "      <td>3029969.50000</td>\n",
              "    </tr>\n",
              "    <tr>\n",
              "      <th>4997</th>\n",
              "      <td>2022-04-23 07:30:00</td>\n",
              "      <td>3030359.50000</td>\n",
              "      <td>3030359.50000</td>\n",
              "      <td>3024390.00000</td>\n",
              "      <td>3024767.75000</td>\n",
              "    </tr>\n",
              "    <tr>\n",
              "      <th>4998</th>\n",
              "      <td>2022-04-23 08:15:00</td>\n",
              "      <td>3029760.75000</td>\n",
              "      <td>3033990.00000</td>\n",
              "      <td>3028191.75000</td>\n",
              "      <td>3028950.50000</td>\n",
              "    </tr>\n",
              "    <tr>\n",
              "      <th>4999</th>\n",
              "      <td>2022-04-23 09:00:00</td>\n",
              "      <td>3030087.25000</td>\n",
              "      <td>3030087.25000</td>\n",
              "      <td>3024257.75000</td>\n",
              "      <td>3024865.50000</td>\n",
              "    </tr>\n",
              "  </tbody>\n",
              "</table>\n",
              "<p>5000 rows × 5 columns</p>\n",
              "</div>\n",
              "      <button class=\"colab-df-convert\" onclick=\"convertToInteractive('df-d86d8909-2a12-48e7-9d29-49a300d94297')\"\n",
              "              title=\"Convert this dataframe to an interactive table.\"\n",
              "              style=\"display:none;\">\n",
              "        \n",
              "  <svg xmlns=\"http://www.w3.org/2000/svg\" height=\"24px\"viewBox=\"0 0 24 24\"\n",
              "       width=\"24px\">\n",
              "    <path d=\"M0 0h24v24H0V0z\" fill=\"none\"/>\n",
              "    <path d=\"M18.56 5.44l.94 2.06.94-2.06 2.06-.94-2.06-.94-.94-2.06-.94 2.06-2.06.94zm-11 1L8.5 8.5l.94-2.06 2.06-.94-2.06-.94L8.5 2.5l-.94 2.06-2.06.94zm10 10l.94 2.06.94-2.06 2.06-.94-2.06-.94-.94-2.06-.94 2.06-2.06.94z\"/><path d=\"M17.41 7.96l-1.37-1.37c-.4-.4-.92-.59-1.43-.59-.52 0-1.04.2-1.43.59L10.3 9.45l-7.72 7.72c-.78.78-.78 2.05 0 2.83L4 21.41c.39.39.9.59 1.41.59.51 0 1.02-.2 1.41-.59l7.78-7.78 2.81-2.81c.8-.78.8-2.07 0-2.86zM5.41 20L4 18.59l7.72-7.72 1.47 1.35L5.41 20z\"/>\n",
              "  </svg>\n",
              "      </button>\n",
              "      \n",
              "  <style>\n",
              "    .colab-df-container {\n",
              "      display:flex;\n",
              "      flex-wrap:wrap;\n",
              "      gap: 12px;\n",
              "    }\n",
              "\n",
              "    .colab-df-convert {\n",
              "      background-color: #E8F0FE;\n",
              "      border: none;\n",
              "      border-radius: 50%;\n",
              "      cursor: pointer;\n",
              "      display: none;\n",
              "      fill: #1967D2;\n",
              "      height: 32px;\n",
              "      padding: 0 0 0 0;\n",
              "      width: 32px;\n",
              "    }\n",
              "\n",
              "    .colab-df-convert:hover {\n",
              "      background-color: #E2EBFA;\n",
              "      box-shadow: 0px 1px 2px rgba(60, 64, 67, 0.3), 0px 1px 3px 1px rgba(60, 64, 67, 0.15);\n",
              "      fill: #174EA6;\n",
              "    }\n",
              "\n",
              "    [theme=dark] .colab-df-convert {\n",
              "      background-color: #3B4455;\n",
              "      fill: #D2E3FC;\n",
              "    }\n",
              "\n",
              "    [theme=dark] .colab-df-convert:hover {\n",
              "      background-color: #434B5C;\n",
              "      box-shadow: 0px 1px 3px 1px rgba(0, 0, 0, 0.15);\n",
              "      filter: drop-shadow(0px 1px 2px rgba(0, 0, 0, 0.3));\n",
              "      fill: #FFFFFF;\n",
              "    }\n",
              "  </style>\n",
              "\n",
              "      <script>\n",
              "        const buttonEl =\n",
              "          document.querySelector('#df-d86d8909-2a12-48e7-9d29-49a300d94297 button.colab-df-convert');\n",
              "        buttonEl.style.display =\n",
              "          google.colab.kernel.accessAllowed ? 'block' : 'none';\n",
              "\n",
              "        async function convertToInteractive(key) {\n",
              "          const element = document.querySelector('#df-d86d8909-2a12-48e7-9d29-49a300d94297');\n",
              "          const dataTable =\n",
              "            await google.colab.kernel.invokeFunction('convertToInteractive',\n",
              "                                                     [key], {});\n",
              "          if (!dataTable) return;\n",
              "\n",
              "          const docLinkHtml = 'Like what you see? Visit the ' +\n",
              "            '<a target=\"_blank\" href=https://colab.research.google.com/notebooks/data_table.ipynb>data table notebook</a>'\n",
              "            + ' to learn more about interactive tables.';\n",
              "          element.innerHTML = '';\n",
              "          dataTable['output_type'] = 'display_data';\n",
              "          await google.colab.output.renderOutput(dataTable, element);\n",
              "          const docLink = document.createElement('div');\n",
              "          docLink.innerHTML = docLinkHtml;\n",
              "          element.appendChild(docLink);\n",
              "        }\n",
              "      </script>\n",
              "    </div>\n",
              "  </div>\n",
              "  "
            ]
          },
          "metadata": {},
          "execution_count": 11
        }
      ]
    },
    {
      "cell_type": "code",
      "source": [
        "bitcoin_prices = pd.to_numeric(test_data_final['close'], errors = 'coerce').values\n",
        "\n",
        "test_inputs = test_data_final['close'].values\n",
        "test_inputs = test_inputs.reshape(-1,1)\n",
        "model_inputs = scaler.fit_transform(test_inputs)"
      ],
      "metadata": {
        "id": "-Hn5X5q7Ib2a"
      },
      "execution_count": null,
      "outputs": []
    },
    {
      "cell_type": "code",
      "source": [
        "x_test = []\n",
        "\n",
        "for x in range(time_intervals_to_train, len(model_inputs)):\n",
        "  x_test.append(model_inputs[x - time_intervals_to_train:x , 0])\n",
        "  \n",
        "x_test = np.array(x_test)\n",
        "x_test = np.reshape(x_test, (x_test.shape[0], x_test.shape[1], 1))"
      ],
      "metadata": {
        "id": "HHbYwyK0J6VQ"
      },
      "execution_count": null,
      "outputs": []
    },
    {
      "cell_type": "code",
      "source": [
        "prediction_prices = model.predict(x_test)\n",
        "prediction_prices = scaler.inverse_transform(prediction_prices)"
      ],
      "metadata": {
        "id": "eFu5vMpFKtHE"
      },
      "execution_count": null,
      "outputs": []
    },
    {
      "cell_type": "code",
      "source": [
        "prediction_prices"
      ],
      "metadata": {
        "colab": {
          "base_uri": "https://localhost:8080/"
        },
        "id": "dwF1j58oZBug",
        "outputId": "e2268a42-5d08-4030-ac5e-162a1f288f58"
      },
      "execution_count": null,
      "outputs": [
        {
          "output_type": "execute_result",
          "data": {
            "text/plain": [
              "array([[4410488.5],\n",
              "       [4411645.5],\n",
              "       [4412875.5],\n",
              "       ...,\n",
              "       [3071159. ],\n",
              "       [3070718.8],\n",
              "       [3070375.5]], dtype=float32)"
            ]
          },
          "metadata": {},
          "execution_count": 15
        }
      ]
    },
    {
      "cell_type": "code",
      "source": [
        "plt.plot(bitcoin_prices, label = 'Bitcoin Prices')\n",
        "plt.plot(prediction_prices, label = 'Predicted Prices')\n",
        "plt.title('Predicting Bitcoin Price')\n",
        "plt.xlabel('45mins Time Interval')\n",
        "plt.ylabel('Price')\n",
        "plt.legend()\n",
        "plt.show()"
      ],
      "metadata": {
        "colab": {
          "base_uri": "https://localhost:8080/",
          "height": 295
        },
        "id": "6XistQvjK8V5",
        "outputId": "737e1420-cf6d-4d9b-8c7e-2ca73814f826"
      },
      "execution_count": null,
      "outputs": [
        {
          "output_type": "display_data",
          "data": {
            "text/plain": [
              "<Figure size 432x288 with 1 Axes>"
            ],
            "image/png": "[encoded data removed]"
          },
          "metadata": {
            "needs_background": "light"
          }
        }
      ]
    }
  ]
}